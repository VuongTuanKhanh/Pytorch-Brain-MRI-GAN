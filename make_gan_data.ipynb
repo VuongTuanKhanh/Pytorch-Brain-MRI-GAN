{
 "cells": [
  {
   "cell_type": "code",
   "execution_count": 1,
   "id": "fallen-cannon",
   "metadata": {},
   "outputs": [],
   "source": [
    "from matplotlib import pyplot as plt\n",
    "import cv2\n",
    "import time\n",
    "import nibabel as nib\n",
    "import os\n",
    "import numpy as np\n",
    "from shutil import rmtree\n",
    "from threading import Thread"
   ]
  },
  {
   "cell_type": "code",
   "execution_count": 2,
   "id": "multiple-solomon",
   "metadata": {},
   "outputs": [],
   "source": [
    "image_folder = './data/MICCAI_BraTS2020_TrainingData/'\n",
    "all_images_folder = [image_folder + f + '/' for f in os.listdir(image_folder)][:-2]"
   ]
  },
  {
   "cell_type": "code",
   "execution_count": 3,
   "id": "utility-ballet",
   "metadata": {},
   "outputs": [],
   "source": [
    "training_folder = './gan_training_data/'"
   ]
  },
  {
   "cell_type": "code",
   "execution_count": 4,
   "id": "educational-article",
   "metadata": {},
   "outputs": [],
   "source": [
    "rmtree(training_folder)\n",
    "os.mkdir(training_folder)\n",
    "os.mkdir(training_folder + 'trainA')\n",
    "os.mkdir(training_folder + 'trainB')\n",
    "os.mkdir(training_folder + 'valA')\n",
    "os.mkdir(training_folder + 'valB')\n",
    "os.mkdir(training_folder + 'testA')\n",
    "os.mkdir(training_folder + 'testB')"
   ]
  },
  {
   "cell_type": "code",
   "execution_count": 5,
   "id": "undefined-adrian",
   "metadata": {},
   "outputs": [],
   "source": [
    "image_file_format = '{}{}_{}.nii.gz'\n",
    "\n",
    "def get_images(file):\n",
    "    img = nib.load(file)\n",
    "    data = img.get_fdata()\n",
    "    maxx = data.max()\n",
    "    data = data/maxx\n",
    "    \n",
    "    return data, data.shape[-1]"
   ]
  },
  {
   "cell_type": "code",
   "execution_count": 6,
   "id": "knowing-masters",
   "metadata": {},
   "outputs": [],
   "source": [
    "def get_save_folder():\n",
    "    rand = np.random.random()\n",
    "    \n",
    "    if rand<0.15:\n",
    "        return 'val'\n",
    "    elif rand<0.3:\n",
    "        return 'test'\n",
    "    else:\n",
    "        return 'train'"
   ]
  },
  {
   "cell_type": "code",
   "execution_count": 7,
   "id": "hungarian-desktop",
   "metadata": {},
   "outputs": [],
   "source": [
    "def save_image_data_train(image_folder):\n",
    "    file_path_t1 = image_file_format.format(image_folder, image_folder.split('/')[-2], 't1')\n",
    "    file_path_t2 = image_file_format.format(image_folder, image_folder.split('/')[-2], 't1ce')\n",
    "    \n",
    "    t1_img, _ = get_images(file_path_t1)\n",
    "    t2_img, _ = get_images(file_path_t2)\n",
    "    \n",
    "    save_folder = get_save_folder()\n",
    "    file_name = image_folder.split('/')[-2].split('_')[-1]\n",
    "    for i in range(27, 127):\n",
    "        cv2.imwrite(\n",
    "            training_folder + save_folder+ 'A/' + file_name + '_' + str(i) + '.jpg', \n",
    "            (t1_img[:, :, i] * 255).astype('int')\n",
    "        )\n",
    "        \n",
    "        cv2.imwrite(\n",
    "            training_folder + save_folder+ 'B/' + file_name + '_' + str(i) + '.jpg', \n",
    "            (t2_img[:, :, i] * 255).astype('int')\n",
    "        )"
   ]
  },
  {
   "cell_type": "code",
   "execution_count": 8,
   "id": "promotional-jimmy",
   "metadata": {},
   "outputs": [
    {
     "name": "stdout",
     "output_type": "stream",
     "text": [
      "Processing at index 368\r"
     ]
    }
   ],
   "source": [
    "processing_threads = []\n",
    "max_threads = 10\n",
    "\n",
    "for idx, img_folder in enumerate(all_images_folder):\n",
    "    print('Processing at index {}'.format(idx), end='\\r')\n",
    "    processing_threads.append(Thread(target=save_image_data_train, args=[img_folder]))\n",
    "    processing_threads[-1].start()\n",
    "    \n",
    "    if len(processing_threads) == max_threads:\n",
    "        while all([t.is_alive() for t in processing_threads]):\n",
    "            time.sleep(0.3)\n",
    "        \n",
    "        for t in reversed(processing_threads):\n",
    "            if not t.is_alive():\n",
    "                processing_threads.remove(t)"
   ]
  },
  {
   "cell_type": "code",
   "execution_count": 25,
   "id": "foster-duration",
   "metadata": {},
   "outputs": [],
   "source": [
    "save_image_data_train(all_images_folder[0])"
   ]
  },
  {
   "cell_type": "code",
   "execution_count": 24,
   "id": "small-actor",
   "metadata": {},
   "outputs": [
    {
     "data": {
      "text/plain": [
       "'./data/MICCAI_BraTS2020_TrainingData/BraTS20_Training_001/'"
      ]
     },
     "execution_count": 24,
     "metadata": {},
     "output_type": "execute_result"
    }
   ],
   "source": [
    "all_images_folder[0]"
   ]
  },
  {
   "cell_type": "code",
   "execution_count": null,
   "id": "useful-trigger",
   "metadata": {},
   "outputs": [],
   "source": []
  }
 ],
 "metadata": {
  "kernelspec": {
   "display_name": "Python 3",
   "language": "python",
   "name": "python3"
  },
  "language_info": {
   "codemirror_mode": {
    "name": "ipython",
    "version": 3
   },
   "file_extension": ".py",
   "mimetype": "text/x-python",
   "name": "python",
   "nbconvert_exporter": "python",
   "pygments_lexer": "ipython3",
   "version": "3.8.5"
  }
 },
 "nbformat": 4,
 "nbformat_minor": 5
}
