{
 "cells": [
  {
   "cell_type": "code",
   "execution_count": 1,
   "id": "ultimate-oxygen",
   "metadata": {},
   "outputs": [],
   "source": [
    "from matplotlib import pyplot as plt\n",
    "import cv2\n",
    "import time\n",
    "import nibabel as nib\n",
    "import os\n",
    "import numpy as np\n",
    "from shutil import rmtree\n",
    "from threading import Thread"
   ]
  },
  {
   "cell_type": "code",
   "execution_count": 3,
   "id": "aquatic-clear",
   "metadata": {},
   "outputs": [],
   "source": [
    "image_folder = './datasets/MICCAI_BraTS2020_TrainingData/'\n",
    "all_images_folder = [image_folder + f + '/' for f in os.listdir(image_folder)][:-2]"
   ]
  },
  {
   "cell_type": "code",
   "execution_count": 4,
   "id": "educational-conversion",
   "metadata": {},
   "outputs": [],
   "source": [
    "training_folder = 'F:torch_gan/pix2pix/'"
   ]
  },
  {
   "cell_type": "code",
   "execution_count": 5,
   "id": "concrete-measure",
   "metadata": {},
   "outputs": [],
   "source": [
    "rmtree(training_folder)\n",
    "os.mkdir(training_folder)\n",
    "os.mkdir(training_folder + 'train')\n",
    "os.mkdir(training_folder + 'val')\n",
    "os.mkdir(training_folder + 'test')"
   ]
  },
  {
   "cell_type": "code",
   "execution_count": 6,
   "id": "practical-creator",
   "metadata": {},
   "outputs": [],
   "source": [
    "image_file_format = '{}{}_{}.nii.gz'\n",
    "\n",
    "def get_images(file):\n",
    "    img = nib.load(file)\n",
    "    data = img.get_fdata()\n",
    "    maxx = data.max()\n",
    "    data = data/maxx\n",
    "    \n",
    "    return data, data.shape[-1]"
   ]
  },
  {
   "cell_type": "code",
   "execution_count": 7,
   "id": "iraqi-america",
   "metadata": {},
   "outputs": [],
   "source": [
    "def get_save_folder():\n",
    "    rand = np.random.random()\n",
    "    \n",
    "    if rand<0.15:\n",
    "        return 'val/'\n",
    "    elif rand<0.3:\n",
    "        return 'test/'\n",
    "    else:\n",
    "        return 'train/'"
   ]
  },
  {
   "cell_type": "code",
   "execution_count": 8,
   "id": "asian-suspension",
   "metadata": {},
   "outputs": [],
   "source": [
    "def save_image_data_train(image_folder):\n",
    "    file_path_t1 = image_file_format.format(image_folder, image_folder.split('/')[-2], 't1')\n",
    "    file_path_t2 = image_file_format.format(image_folder, image_folder.split('/')[-2], 't1ce')\n",
    "    file_path_seg = image_file_format.format(image_folder, image_folder.split('/')[-2], 'seg')\n",
    "    \n",
    "    t1_img, _ = get_images(file_path_t1)\n",
    "    t2_img, _ = get_images(file_path_t2)\n",
    "    sg_img, _ = get_images(file_path_seg)\n",
    "    \n",
    "    save_folder = get_save_folder()\n",
    "    file_name = image_folder.split('/')[-2].split('_')[-1]\n",
    "    image_size = t1_img.shape[0]\n",
    "    for i in range(27, 127):\n",
    "        if cv2.sumElems(sg_img[:, :, i])[0] > 100:\n",
    "            canvas = np.empty((image_size, image_size*2), np.uint8)\n",
    "            canvas[:, :image_size] = (t1_img[:, :, i] * 255).astype('int')\n",
    "            canvas[:, image_size:] = (t2_img[:, :, i] * 255).astype('int')\n",
    "            cv2.imwrite(training_folder + save_folder + file_name + '_' + str(i) + '.jpg', canvas)"
   ]
  },
  {
   "cell_type": "code",
   "execution_count": 9,
   "id": "elegant-honey",
   "metadata": {},
   "outputs": [
    {
     "name": "stdout",
     "output_type": "stream",
     "text": [
      "Processing at index 368\r"
     ]
    }
   ],
   "source": [
    "processing_threads = []\n",
    "max_threads = 10\n",
    "\n",
    "for idx, img_folder in enumerate(all_images_folder):\n",
    "    print('Processing at index {}'.format(idx), end='\\r')\n",
    "    processing_threads.append(Thread(target=save_image_data_train, args=[img_folder]))\n",
    "    processing_threads[-1].start()\n",
    "    \n",
    "    if len(processing_threads) == max_threads:\n",
    "        while all([t.is_alive() for t in processing_threads]):\n",
    "            time.sleep(0.3)\n",
    "        \n",
    "        for t in reversed(processing_threads):\n",
    "            if not t.is_alive():\n",
    "                processing_threads.remove(t)"
   ]
  },
  {
   "cell_type": "code",
   "execution_count": null,
   "id": "rising-bridal",
   "metadata": {},
   "outputs": [],
   "source": []
  }
 ],
 "metadata": {
  "kernelspec": {
   "display_name": "Python 3",
   "language": "python",
   "name": "python3"
  },
  "language_info": {
   "codemirror_mode": {
    "name": "ipython",
    "version": 3
   },
   "file_extension": ".py",
   "mimetype": "text/x-python",
   "name": "python",
   "nbconvert_exporter": "python",
   "pygments_lexer": "ipython3",
   "version": "3.6.9"
  }
 },
 "nbformat": 4,
 "nbformat_minor": 5
}
